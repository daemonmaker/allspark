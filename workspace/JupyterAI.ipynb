{
 "cells": [
  {
   "cell_type": "code",
   "execution_count": null,
   "id": "4bd6b58b-7358-4f31-a0c9-c3e7761f1920",
   "metadata": {},
   "outputs": [],
   "source": [
    "%load_ext jupyter_ai"
   ]
  },
  {
   "cell_type": "code",
   "execution_count": null,
   "id": "c82b631f-eab4-4260-8c76-23faa09f4cf8",
   "metadata": {},
   "outputs": [],
   "source": [
    "%ai list"
   ]
  },
  {
   "cell_type": "code",
   "execution_count": null,
   "id": "f501d168-2af4-469f-b185-bd52891b5dce",
   "metadata": {},
   "outputs": [],
   "source": [
    "%%ai gpt4\n",
    "Write a function add two numbers."
   ]
  },
  {
   "cell_type": "code",
   "execution_count": null,
   "id": "dcdf0f83-e7d2-48b6-9588-ac177cd462b7",
   "metadata": {},
   "outputs": [],
   "source": [
    "%%ai gpt4 -f markdown\n",
    "Write a function add two numbers."
   ]
  },
  {
   "cell_type": "code",
   "execution_count": null,
   "id": "e229953b-5cc4-4720-9a0e-825f54fee03b",
   "metadata": {},
   "outputs": [],
   "source": [
    "%%ai gpt4 -f code\n",
    "Write a function add two numbers."
   ]
  },
  {
   "cell_type": "code",
   "execution_count": null,
   "id": "f7211aeb-b8f0-49f6-a946-10da22836dd2",
   "metadata": {},
   "outputs": [],
   "source": [
    "def add_two_numbers(a, b):\n",
    "    return a + b"
   ]
  },
  {
   "cell_type": "code",
   "execution_count": null,
   "id": "c0364e25-f7e0-452e-b1c2-6a721132e328",
   "metadata": {
    "scrolled": true
   },
   "outputs": [],
   "source": [
    "%%ai gpt4 -f code\n",
    "Write functions that perform the basic arithmetic operations."
   ]
  },
  {
   "cell_type": "code",
   "execution_count": null,
   "id": "5a8525cd-2be8-4e6a-b456-45611e2e16f6",
   "metadata": {},
   "outputs": [],
   "source": [
    "def add(a, b):\n",
    "    return a + b\n",
    "\n",
    "def subtract(a, b):\n",
    "    return a - b\n",
    "\n",
    "def multiply(a, b):\n",
    "    return a * b\n",
    "\n",
    "def divide(a, b):\n",
    "    if b != 0:\n",
    "        return a / b\n",
    "    else:\n",
    "        return \"Error: Division by zero is not allowed.\""
   ]
  },
  {
   "cell_type": "code",
   "execution_count": null,
   "id": "ee9c043f-6153-44a7-9f3c-f17f560c5b6a",
   "metadata": {},
   "outputs": [],
   "source": []
  }
 ],
 "metadata": {
  "kernelspec": {
   "display_name": "Python 3 (ipykernel)",
   "language": "python",
   "name": "python3"
  },
  "language_info": {
   "codemirror_mode": {
    "name": "ipython",
    "version": 3
   },
   "file_extension": ".py",
   "mimetype": "text/x-python",
   "name": "python",
   "nbconvert_exporter": "python",
   "pygments_lexer": "ipython3",
   "version": "3.11.7"
  }
 },
 "nbformat": 4,
 "nbformat_minor": 5
}
